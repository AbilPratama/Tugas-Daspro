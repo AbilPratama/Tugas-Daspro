{
 "cells": [
  {
   "cell_type": "code",
   "execution_count": 1,
   "id": "355cefb9",
   "metadata": {},
   "outputs": [
    {
     "name": "stdout",
     "output_type": "stream",
     "text": [
      "dingin\n"
     ]
    }
   ],
   "source": [
    "cuaca = \"Hujan\"\n",
    "if cuaca == \"Hujan\":\n",
    "    print(\"Dingin\")\n",
    "print(\"Hari ini sangat cerah\")"
   ]
  },
  {
   "cell_type": "code",
   "execution_count": 3,
   "id": "47935417",
   "metadata": {},
   "outputs": [
    {
     "name": "stdout",
     "output_type": "stream",
     "text": [
      "7 adalah bilangan ganjil\n"
     ]
    }
   ],
   "source": [
    "nilai = 7\n",
    "sisa_bagi = nilai % 2\n",
    "if sisa_bagi == 0:\n",
    "    print(f\"{nilai} adalah bilangan genap\")\n",
    "else :\n",
    "    print(f\"{nilai} adalah bilangan ganjil\")"
   ]
  },
  {
   "cell_type": "code",
   "execution_count": 13,
   "id": "7e606909",
   "metadata": {},
   "outputs": [
    {
     "name": "stdout",
     "output_type": "stream",
     "text": [
      "Isi nilai: 200\n",
      "Kesalahan input\n"
     ]
    }
   ],
   "source": [
    "nilai = int(input(\"Isi nilai: \"))\n",
    "if nilai >=0 and nilai <=100:\n",
    "    if nilai <= 49:\n",
    "        print(f\"{nilai} adalah nilai E\")\n",
    "    elif nilai <= 59:\n",
    "        print(f\"{nilai} adalah nilai D\")\n",
    "    elif nilai <= 69:\n",
    "        print(f\"{nilai} adalah nilai C\")\n",
    "    elif nilai <= 84:\n",
    "        print(f\"{nilai} adalah nilai B\")\n",
    "    elif nilai <= 100:\n",
    "        print(f\"{nilai} adalah nilai A\")\n",
    "else:\n",
    "    print(\"Kesalahan input\")\n"
   ]
  },
  {
   "cell_type": "code",
   "execution_count": 18,
   "id": "2d00ff24",
   "metadata": {},
   "outputs": [
    {
     "name": "stdout",
     "output_type": "stream",
     "text": [
      "Isikan username: admin\n",
      "isikan password: admin\n",
      "selamat datang admin\n"
     ]
    }
   ],
   "source": [
    "username = input(\"Isikan username: \")\n",
    "password = input(\"isikan password: \")\n",
    "\n",
    "if username == \"admin\":\n",
    "    if password == \"admin\":\n",
    "        print(f\"selamat datang {username}\")\n",
    "    else:\n",
    "        print(\"password anda salah\")\n",
    "else:\n",
    "    if password == \"admin\":\n",
    "        print(\"username anda salah\")\n",
    "    else:\n",
    "        print(\"username dan password anda salah\")"
   ]
  },
  {
   "cell_type": "code",
   "execution_count": 24,
   "id": "b3cee8dc",
   "metadata": {},
   "outputs": [
    {
     "name": "stdout",
     "output_type": "stream",
     "text": [
      "Masukkan nama: Caca\n",
      "Masukkan umur: 27\n",
      "Masukkan tempat tinggal: california\n",
      "Masukkan berapa uang tabungan: 2000000\n",
      "Caca tidak mencurigakan\n"
     ]
    }
   ],
   "source": [
    "nama = input(\"Masukkan nama: \")\n",
    "umur = int(input(\"Masukkan umur: \"))\n",
    "tinggal = input(\"Masukkan tempat tinggal: \")\n",
    "tabungan = int(input(\"Masukkan berapa uang tabungan: \"))\n",
    "\n",
    "pangkat = \"\"\n",
    "\n",
    "if umur > 40:\n",
    "    if tinggal == \"nevada\" or tinggal == \"new york\" or tinggal == \"havana\":\n",
    "        if tabungan > 10000000:\n",
    "            pangkat = \"Don\"\n",
    "elif umur >25 or umur <40:\n",
    "    if tinggal == \"new jersey\" or tinggal == \"manhattan\" or tinggal == \"nevada\":\n",
    "        if tabungan > 10000000 - 20000000:\n",
    "            pangkat = \"Underboss\"\n",
    "elif umur > 18 or umur <24 :\n",
    "    if tinggal == \"california\" or tinggal == \"detroit\" or tinggal == \"boston\":\n",
    "        if tabungan < 1000000:\n",
    "            pangkat = \"Capo\"\n",
    "\n",
    "if pangkat != \"\":\n",
    "    print(f\"{nama} kemungkinan anggota mafia dengan pangkat {pangkat}\")\n",
    "else:\n",
    "    print(f\"{nama} tidak mencurigakan\")"
   ]
  },
  {
   "cell_type": "code",
   "execution_count": null,
   "id": "97fe4ea2",
   "metadata": {},
   "outputs": [],
   "source": []
  },
  {
   "cell_type": "code",
   "execution_count": null,
   "id": "08093272",
   "metadata": {},
   "outputs": [],
   "source": []
  },
  {
   "cell_type": "code",
   "execution_count": null,
   "id": "dcebd39c",
   "metadata": {},
   "outputs": [],
   "source": []
  }
 ],
 "metadata": {
  "kernelspec": {
   "display_name": "Python 3 (ipykernel)",
   "language": "python",
   "name": "python3"
  },
  "language_info": {
   "codemirror_mode": {
    "name": "ipython",
    "version": 3
   },
   "file_extension": ".py",
   "mimetype": "text/x-python",
   "name": "python",
   "nbconvert_exporter": "python",
   "pygments_lexer": "ipython3",
   "version": "3.9.12"
  }
 },
 "nbformat": 4,
 "nbformat_minor": 5
}
