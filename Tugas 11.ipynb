{
 "cells": [
  {
   "cell_type": "markdown",
   "id": "e99efeb4-f395-40e0-9638-e4fdf81e92fa",
   "metadata": {},
   "source": [
    "<h2>Buatlah fungsi untuk menjumlahkan total nilai dari list</h2>"
   ]
  },
  {
   "cell_type": "code",
   "execution_count": 11,
   "id": "b398a7cf-7a81-4bbe-ab86-8d97a7bbdd1c",
   "metadata": {},
   "outputs": [
    {
     "name": "stdout",
     "output_type": "stream",
     "text": [
      "Total nilai dari list adalah: 15\n"
     ]
    }
   ],
   "source": [
    "def jumlah_total(list_nilai):\n",
    "    total = 0\n",
    "    for nilai in list_nilai:\n",
    "        total += nilai\n",
    "    return total\n",
    "\n",
    "list_nilai = [1,2,3,4,5]\n",
    "total = jumlah_total(list_nilai)\n",
    "print(f\"Total nilai dari list adalah: {total}\")"
   ]
  },
  {
   "cell_type": "markdown",
   "id": "5c4a29e0-936a-4fbf-b920-0553f1815e7c",
   "metadata": {},
   "source": [
    "<h2> Buatlah fungsi untuk mencari nilai terbesar dari sekumpulan list </h2>"
   ]
  },
  {
   "cell_type": "code",
   "execution_count": 14,
   "id": "56470a9f-fab4-4fed-b893-e3c26a939d56",
   "metadata": {},
   "outputs": [
    {
     "name": "stdout",
     "output_type": "stream",
     "text": [
      "Nilai terbesar dalam list adalah: 63\n"
     ]
    }
   ],
   "source": [
    "def nilai_terbesar(list_nilai):\n",
    "    maks_nilai = list_nilai[0]\n",
    "    \n",
    "    for nilai in list_nilai:\n",
    "        if nilai > maks_nilai:\n",
    "            maks_nilai = nilai\n",
    "            \n",
    "    return maks_nilai\n",
    "\n",
    "list_nilai = [10, 25, 32, 47, 58, 63, 21, 19]\n",
    "terbesar = nilai_terbesar(list_nilai)\n",
    "print(f\"Nilai terbesar dalam list adalah: {terbesar}\")\n"
   ]
  },
  {
   "cell_type": "markdown",
   "id": "837e7fee-78ec-415e-bbc7-c3c4b20a8665",
   "metadata": {},
   "source": [
    "<h2>Buatlah fungsi untuk menjumlahkan 2 buah list</h2>"
   ]
  },
  {
   "cell_type": "code",
   "execution_count": 15,
   "id": "fa7552e0-6e7b-4fca-99b1-6ef8d8f46c34",
   "metadata": {},
   "outputs": [
    {
     "name": "stdout",
     "output_type": "stream",
     "text": [
      "Hasil penjumlahan: [7, 9, 11, 13, 15]\n"
     ]
    }
   ],
   "source": [
    "def jumlah_list(list1, list2):\n",
    "    if len(list1) != len(list2):\n",
    "        return \"Error: Panjang kedua list harus sama\"\n",
    "    \n",
    "    hasil = [list1[i] + list2[i] for i in range(len(list1))]\n",
    "    \n",
    "    return hasil\n",
    "\n",
    "list1 = [1, 2, 3, 4, 5]\n",
    "list2 = [6, 7, 8, 9, 10]\n",
    "hasil_penjumlahan = jumlah_list(list1, list2)\n",
    "print(\"Hasil penjumlahan:\", hasil_penjumlahan)\n"
   ]
  }
 ],
 "metadata": {
  "kernelspec": {
   "display_name": "Python 3 (ipykernel)",
   "language": "python",
   "name": "python3"
  },
  "language_info": {
   "codemirror_mode": {
    "name": "ipython",
    "version": 3
   },
   "file_extension": ".py",
   "mimetype": "text/x-python",
   "name": "python",
   "nbconvert_exporter": "python",
   "pygments_lexer": "ipython3",
   "version": "3.11.7"
  }
 },
 "nbformat": 4,
 "nbformat_minor": 5
}
