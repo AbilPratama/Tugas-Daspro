{
 "cells": [
  {
   "cell_type": "markdown",
   "id": "e5d1dc35-9e78-4913-8f09-167d8665eb54",
   "metadata": {},
   "source": [
    "<h1>Penerimaan Calon Programmer<h1/>"
   ]
  },
  {
   "cell_type": "code",
   "execution_count": 10,
   "id": "931afad9-2c1d-4d46-b370-ec86ca0a29c8",
   "metadata": {},
   "outputs": [
    {
     "name": "stdin",
     "output_type": "stream",
     "text": [
      "Masukkan Nilai Coding:  50\n",
      "Masukkan Nilai Interview:  B\n"
     ]
    },
    {
     "name": "stdout",
     "output_type": "stream",
     "text": [
      "Maaf kamu belum berhasil menjadi calon programmer\n"
     ]
    }
   ],
   "source": [
    "nilai_coding = int(input(\"Masukkan Nilai Coding: \"))\n",
    "nilai_interview = input(\"Masukkan Nilai Interview: \")\n",
    "\n",
    "#tes coding\n",
    "if nilai_coding > 80:\n",
    "    hasil_coding = \"LOLOS\"\n",
    "elif 60 <= nilai_coding <= 80:\n",
    "    hasil_coding = \"DIPERTIMBANGKAN\"\n",
    "else:\n",
    "    hasil_coding = \"GAGAL\"\n",
    "\n",
    "#tes interview\n",
    "if nilai_interview == \"A\" or nilai_interview == \"B\":\n",
    "    hasil_interview = \"LOLOS\"\n",
    "else:\n",
    "    hasil_interview = \"GAGAL\"\n",
    "\n",
    "#Penerimaan calon\n",
    "if hasil_coding == \"LOLOS\" or hasil_coding == \"DIPERTIMBANGKAN\" and hasil_interview == \"LOLOS\":\n",
    "    print(\"Selamat kamu berhasil menjadi calon programmer\")\n",
    "else:\n",
    "    print(\"Maaf kamu belum berhasil menjadi calon programmer\")"
   ]
  },
  {
   "cell_type": "markdown",
   "id": "12328786-bb8d-4bcc-9ba5-3a99ec96a1de",
   "metadata": {},
   "source": [
    "<h1>Nomor Punggung Pemain Sepak Bola</h1>"
   ]
  },
  {
   "cell_type": "code",
   "execution_count": 4,
   "id": "a966e317-50f0-4080-9063-32c06249f50a",
   "metadata": {},
   "outputs": [
    {
     "name": "stdin",
     "output_type": "stream",
     "text": [
      "Masukkan Nomor Punggung Pemain:  95\n"
     ]
    },
    {
     "name": "stdout",
     "output_type": "stream",
     "text": [
      "Nomor punggung tersebut dapat digunakan untuk posisi: Defender, Playmaker, Keeper\n"
     ]
    }
   ],
   "source": [
    "nomor_punggung = int(input(\"Masukkan Nomor Punggung Pemain: \"))\n",
    "\n",
    "posisi = \"\"\n",
    "\n",
    "if nomor_punggung % 2 == 0:\n",
    "    posisi += \"Target Attacker, \"\n",
    "\n",
    "if 50 <= nomor_punggung <= 100 and nomor_punggung % 2 == 0:\n",
    "    posisi += \"Captain Team, \"\n",
    "\n",
    "if nomor_punggung % 2 != 0:\n",
    "    posisi += \"Defender, \"\n",
    "\n",
    "if nomor_punggung % 2 != 0 and nomor_punggung > 90:\n",
    "    posisi += \"Playmaker, \"\n",
    "\n",
    "if nomor_punggung % 2 != 0 and (nomor_punggung % 3 == 0 or nomor_punggung % 5 == 0):\n",
    "    posisi += \"Keeper, \"\n",
    "\n",
    "if posisi:\n",
    "    print(\"Nomor punggung tersebut dapat digunakan untuk posisi:\", posisi[:-2])\n",
    "else:\n",
    "    print(\"Nomor punggung tersebut tidak dapat digunakan untuk posisi apapun.\")"
   ]
  }
 ],
 "metadata": {
  "kernelspec": {
   "display_name": "Python 3 (ipykernel)",
   "language": "python",
   "name": "python3"
  },
  "language_info": {
   "codemirror_mode": {
    "name": "ipython",
    "version": 3
   },
   "file_extension": ".py",
   "mimetype": "text/x-python",
   "name": "python",
   "nbconvert_exporter": "python",
   "pygments_lexer": "ipython3",
   "version": "3.11.7"
  }
 },
 "nbformat": 4,
 "nbformat_minor": 5
}
