{
 "cells": [
  {
   "cell_type": "markdown",
   "id": "29cdbbcb-9110-456a-9016-3e3f36299a3b",
   "metadata": {},
   "source": [
    "<h1> 1.\tBuatlah biodata sederhana dengan menggunakan fungsi input(), dan output variabel dengan fungsi format()."
   ]
  },
  {
   "cell_type": "code",
   "execution_count": 7,
   "id": "29626a2b-f653-4d1e-acff-99edfe35ef6c",
   "metadata": {},
   "outputs": [
    {
     "name": "stdin",
     "output_type": "stream",
     "text": [
      "Nama:  Abil Pratama Putra\n",
      "Masukkan Tanggal lahir:  22\n",
      "Masukkan Bulan lahir:  September\n",
      "Masukkan Tahun lahir:  2003\n",
      "Tempat Tinggal:  Sukabumi\n",
      "Agama:  Islam\n",
      "Hobi:  Bermain Game\n",
      "Pekerjaan:  Belum bekerja/Mahasiswa\n"
     ]
    },
    {
     "name": "stdout",
     "output_type": "stream",
     "text": [
      "\n",
      "=====BIODATA=====\n",
      "\n",
      "Nama           : Abil Pratama Putra\n",
      "Lahir          : 22 September 2003\n",
      "Tempat Tinggal : Sukabumi\n",
      "Agama          : Islam\n",
      "Hobi           : Bermain Game\n",
      "Pekerjaan      : Belum bekerja/Mahasiswa\n"
     ]
    }
   ],
   "source": [
    "name = input('Nama: ')\n",
    "\n",
    "hari = input('Masukkan Tanggal lahir: ')\n",
    "bulan = input('Masukkan Bulan lahir: ')\n",
    "tahun = input('Masukkan Tahun lahir: ')\n",
    "\n",
    "alamat = input('Tempat Tinggal: ')\n",
    "\n",
    "agama = input('Agama: ')\n",
    "\n",
    "hobi = input('Hobi: ')\n",
    "\n",
    "pekerjaan = input('Pekerjaan: ')\n",
    "\n",
    "print(\"\")\n",
    "print(\"=====BIODATA=====\")\n",
    "print(\"\")\n",
    "\n",
    "print(\"Nama           : {}\". format(name))\n",
    "print(\"Lahir          : {0} {1} {2}\". format(hari,bulan,tahun))\n",
    "print(\"Tempat Tinggal : {}\". format(alamat))\n",
    "print(\"Agama          : {}\". format(agama))\n",
    "print(\"Hobi           : {}\". format(hobi))\n",
    "print(\"Pekerjaan      : {}\". format(pekerjaan))"
   ]
  },
  {
   "cell_type": "markdown",
   "id": "00255941-92ce-40df-921e-5e9a8c62213c",
   "metadata": {},
   "source": [
    "<h1>2.\tJika terdapat kalimat UNIVERSITAS NUSA PUTRA SUKABUMI ,buatlah kode program untuk menampilkan output:\r\n",
    "a.\tputra nusa\r\n",
    "b.\tNIVERSITAS NSA PTRA SKABMI\r\n",
    "c.\tSUKABUMI PUTRA NUSA UNIVERSITAS\r\n",
    "d.\tUNPS\r\n",
    "e.\tTAS SAPU BUMI\r\n",
    "</h1>"
   ]
  },
  {
   "cell_type": "code",
   "execution_count": 8,
   "id": "63c3b8d5-fed0-431b-b315-781251ed25ff",
   "metadata": {},
   "outputs": [
    {
     "name": "stdout",
     "output_type": "stream",
     "text": [
      "PUTRA NUSA\n",
      "NIVERSITAS NSA PTRA SKABMI\n",
      "SUKABUMI PUTRA NUSA UNIVERSITAS\n",
      "UNPS\n",
      "TAS SAPU BUMI\n"
     ]
    }
   ],
   "source": [
    "kalimat = \"UNIVERSITAS NUSA PUTRA SUKABUMI\"\n",
    "kalimats = kalimat.split()\n",
    "\n",
    "print(kalimat[-14:-9] + kalimat[-20:-15])\n",
    "print(kalimat[1:11] + kalimat[11:13] + kalimat[14] + kalimat[15] + kalimat[16:18] + kalimat[19:22] + kalimat[22:24]+ kalimat[25:28] + kalimat [29:31])\n",
    "print(kalimat[23:31] + kalimat[16:22] + kalimat[11:17] + kalimat[0:11])\n",
    "print(kalimats[0][0] + kalimats[1][0] + kalimats[2][0] + kalimats[3][0])\n",
    "print(kalimat[8:11], kalimat[14:16] + kalimat[17:19] + \" \" + kalimat[27:31])"
   ]
  }
 ],
 "metadata": {
  "kernelspec": {
   "display_name": "Python 3 (ipykernel)",
   "language": "python",
   "name": "python3"
  },
  "language_info": {
   "codemirror_mode": {
    "name": "ipython",
    "version": 3
   },
   "file_extension": ".py",
   "mimetype": "text/x-python",
   "name": "python",
   "nbconvert_exporter": "python",
   "pygments_lexer": "ipython3",
   "version": "3.11.7"
  }
 },
 "nbformat": 4,
 "nbformat_minor": 5
}
